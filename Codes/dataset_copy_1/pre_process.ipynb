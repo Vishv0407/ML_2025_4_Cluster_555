{
 "cells": [
  {
   "cell_type": "markdown",
   "metadata": {},
   "source": [
    "# Import Libraries"
   ]
  },
  {
   "cell_type": "code",
   "execution_count": null,
   "metadata": {},
   "outputs": [],
   "source": [
    "import pandas as pd\n",
    "import os\n",
    "import shutil\n",
    "import glob"
   ]
  },
  {
   "cell_type": "markdown",
   "metadata": {},
   "source": [
    "# Define Functions"
   ]
  },
  {
   "cell_type": "code",
   "execution_count": null,
   "metadata": {},
   "outputs": [],
   "source": [
    "def process_abnormal_tracks(abnormal_file):\n",
    "    \"\"\"Process abnormal tracks file to extract unique numbers as a set.\"\"\"\n",
    "    with open(abnormal_file, 'r') as f:\n",
    "        lines = f.readlines()\n",
    "    abnormal_nums = set()\n",
    "    for line in lines:\n",
    "        line = line.strip()\n",
    "        if line.endswith('.csv'):\n",
    "            nums = line[:-4].split('_')  # Remove '.csv' and split by '_'\n",
    "            abnormal_nums.update(nums)\n",
    "    return abnormal_nums\n",
    "\n",
    "def interpolate_df(df):\n",
    "    \"\"\"Interpolate DataFrame to fill missing frames between min_frame and max_frame.\"\"\"\n",
    "    df['frameNo'] = df['frameNo'].astype(int)\n",
    "    min_frame = df['frameNo'].min()\n",
    "    max_frame = df['frameNo'].max()\n",
    "    all_frames = range(min_frame, max_frame + 1)\n",
    "    df.set_index('frameNo', inplace=True)\n",
    "    df_interpolated = df.reindex(all_frames).interpolate(method='linear')\n",
    "    df_interpolated.reset_index(inplace=True)\n",
    "    df_interpolated.rename(columns={'index': 'frameNo'}, inplace=True)\n",
    "    return df_interpolated\n",
    "\n",
    "def process_dataset(src_dir, dest_dir, abnormal_file, threshold):\n",
    "    \"\"\"Process CSV files in src_dir and segregate them into dest_dir subdirectories.\"\"\"\n",
    "    # Create destination subdirectories\n",
    "    os.makedirs(os.path.join(dest_dir, 'normal'), exist_ok=True)\n",
    "    os.makedirs(os.path.join(dest_dir, 'abnormal'), exist_ok=True)\n",
    "    os.makedirs(os.path.join(dest_dir, 'discarded'), exist_ok=True)\n",
    "    \n",
    "    # Get set of abnormal numbers\n",
    "    abnormal_set = process_abnormal_tracks(abnormal_file)\n",
    "    \n",
    "    # Process each CSV file\n",
    "    for csv_file in glob.glob(os.path.join(src_dir, '*.csv')):\n",
    "        # Read the CSV file\n",
    "        df = pd.read_csv(csv_file)\n",
    "        filename = os.path.basename(csv_file)\n",
    "        \n",
    "        # Calculate number of frames and time duration\n",
    "        min_frame = df['frameNo'].min()\n",
    "        max_frame = df['frameNo'].max()\n",
    "        number_of_frames = max_frame - min_frame  # Span of frames\n",
    "        time_duration = number_of_frames / 30.0  # 30 fps video\n",
    "        \n",
    "        if time_duration < threshold:\n",
    "            # Move to discarded if duration is less than threshold\n",
    "            dest_path = os.path.join(dest_dir, 'discarded', filename)\n",
    "            shutil.move(csv_file, dest_path)\n",
    "            print(f\"Moved {filename} to discarded (duration: {time_duration:.3f}s)\")\n",
    "        else:\n",
    "            # Interpolate data and save to normal or abnormal\n",
    "            df_interpolated = interpolate_df(df)\n",
    "            numbers = filename.replace('.csv', '').split('_')\n",
    "            is_abnormal = any(num in abnormal_set for num in numbers)\n",
    "            dest_subdir = 'abnormal' if is_abnormal else 'normal'\n",
    "            dest_path = os.path.join(dest_dir, dest_subdir, filename)\n",
    "            df_interpolated.to_csv(dest_path, index=False)\n",
    "            os.remove(csv_file)  # Remove original after saving interpolated version\n",
    "            print(f\"Saved interpolated {filename} to {dest_subdir} (duration: {time_duration:.3f}s)\")"
   ]
  },
  {
   "cell_type": "markdown",
   "metadata": {},
   "source": [
    "# Define Paths and Threshold"
   ]
  },
  {
   "cell_type": "code",
   "execution_count": null,
   "metadata": {},
   "outputs": [],
   "source": [
    "# Define source and destination directories\n",
    "datasets = [\n",
    "    {\n",
    "        'src': '../sptio-temporal-dataset/10',\n",
    "        'dest': './10',\n",
    "        'abnormal': '../sptio-temporal-dataset/AbnormalTracks_10.txt'\n",
    "    },\n",
    "    {\n",
    "        'src': '../sptio-temporal-dataset/11',\n",
    "        'dest': './11',\n",
    "        'abnormal': '../sptio-temporal-dataset/AbnormalTracks_11.txt'\n",
    "    },\n",
    "    {\n",
    "        'src': '../sptio-temporal-dataset/12',\n",
    "        'dest': './12',\n",
    "        'abnormal': '../sptio-temporal-dataset/AbnormalTracks_12.txt'\n",
    "    }\n",
    "]\n",
    "\n",
    "# Global threshold in seconds\n",
    "threshold = 1.0"
   ]
  },
  {
   "cell_type": "markdown",
   "metadata": {},
   "source": [
    "# Process All Datasets"
   ]
  },
  {
   "cell_type": "code",
   "execution_count": null,
   "metadata": {},
   "outputs": [],
   "source": [
    "# Process each dataset\n",
    "for dataset in datasets:\n",
    "    print(f\"\\nProcessing dataset: {dataset['dest']}\")\n",
    "    process_dataset(dataset['src'], dataset['dest'], dataset['abnormal'], threshold)"
   ]
  }
 ],
 "metadata": {
  "kernelspec": {
   "display_name": ".venv",
   "language": "python",
   "name": "python3"
  },
  "language_info": {
   "name": "python",
   "version": "3.10.13"
  }
 },
 "nbformat": 4,
 "nbformat_minor": 2
}
